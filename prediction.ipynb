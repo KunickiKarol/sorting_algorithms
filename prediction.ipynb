{
 "cells": [
  {
   "cell_type": "code",
   "execution_count": 1,
   "id": "dynamic-benjamin",
   "metadata": {},
   "outputs": [],
   "source": [
    "from sklearn.linear_model import LogisticRegression\n",
    "from sklearn.model_selection import train_test_split\n",
    "import pandas as pd\n",
    "import numpy as np\n",
    "import plotly.express as px\n",
    "from plotly.offline import plot\n",
    "\n",
    "from sklearn.metrics import confusion_matrix, classification_report"
   ]
  },
  {
   "cell_type": "code",
   "execution_count": 2,
   "id": "painted-yemen",
   "metadata": {},
   "outputs": [],
   "source": [
    "def label(row):\n",
    "    if row['name_id'] == 0:\n",
    "        return 'amazing'\n",
    "    elif row['name_id'] == 1:\n",
    "        return 'dual'\n",
    "    elif row['name_id'] == 2:\n",
    "        return 'merge'\n",
    "    else:\n",
    "        return 'quick'"
   ]
  },
  {
   "cell_type": "code",
   "execution_count": 5,
   "id": "educated-argentina",
   "metadata": {},
   "outputs": [],
   "source": [
    "df = pd.read_json(r'/home/kaka/Downloads/sort/src/k100')\n",
    "\n",
    "df['cn'] = df.apply(lambda row: (row['compare'] / row.amount), axis=1)\n",
    "df['chn'] = df.apply(lambda row: (row['changes'] / row.amount), axis=1)\n",
    "df = df.loc[(df['name'] != 'insert')]\n",
    "df[\"const\"] = df.apply(lambda row: (\n",
    "    row['compare'] / (row.amount * np.log(row.amount))), axis=1)\n",
    "df['name_id'] = df.groupby('name').grouper.group_info[0]"
   ]
  },
  {
   "cell_type": "code",
   "execution_count": 6,
   "id": "encouraging-vietnamese",
   "metadata": {},
   "outputs": [
    {
     "data": {
      "text/plain": [
       "LogisticRegression(max_iter=10000)"
      ]
     },
     "execution_count": 6,
     "metadata": {},
     "output_type": "execute_result"
    }
   ],
   "source": [
    "#without standarize better results.(here?)\n",
    "data = df.iloc[:, 1:5].to_numpy()\n",
    "target = df.iloc[:, 8].to_numpy()\n",
    "\n",
    "data_train, data_test, target_train, target_test = train_test_split(\n",
    "    data, target, test_size=0.3)\n",
    "\n",
    "model = LogisticRegression(max_iter=10000)\n",
    "model.fit(X=data_train, y=target_train)"
   ]
  },
  {
   "cell_type": "code",
   "execution_count": 7,
   "id": "specialized-humanitarian",
   "metadata": {},
   "outputs": [],
   "source": [
    "y_pred = model.predict(data_test)\n",
    "y_true = target_test\n",
    "diff = y_pred == y_true\n",
    "diff = diff.astype(int)\n",
    "\n",
    "\n",
    "predicted = pd.DataFrame(data=data_test[:,0], columns=['amount'])\n",
    "predicted['compare'] = pd.DataFrame(data=data_test[:,1], columns=['compare'])\n",
    "predicted['changes'] = pd.DataFrame(data=data_test[:,2], columns=['changes'])\n",
    "predicted['time'] = pd.DataFrame(data=data_test[:,3], columns=['time'])\n",
    "\n",
    "predicted['pred'] = pd.DataFrame(diff)\n",
    "predicted['name_id'] = pd.DataFrame(data=target_test)\n",
    "\n",
    "tmp = predicted.apply(lambda row: (label(row)), axis = 1)\n",
    "predicted['name'] = tmp\n",
    "predicted[\"const\"] = predicted.apply(lambda row: (row['compare'] / (\n",
    "    row.amount * np.log(row.amount))), axis=1)\n",
    "predicted = predicted.sort_values(['amount'])"
   ]
  },
  {
   "cell_type": "code",
   "execution_count": 8,
   "id": "sitting-opinion",
   "metadata": {},
   "outputs": [],
   "source": [
    "ans= confusion_matrix(target_test, y_pred)\n",
    "ans = pd.DataFrame(ans, columns=['amazing', 'dual', 'merge', 'quick'], \n",
    "                    index = ['amazing', 'dual', 'merge', 'quick'])\n",
    "info= classification_report(target_test, y_pred)\n",
    "score = model.score(data_test, target_test)"
   ]
  },
  {
   "cell_type": "code",
   "execution_count": 9,
   "id": "negative-enough",
   "metadata": {},
   "outputs": [],
   "source": [
    "fig = px.scatter(data_frame=predicted, x='time', y='const', size='changes', \n",
    "                 text = 'pred', color='name', size_max=10, \n",
    "                 animation_frame='amount', range_y=[0, 2.5], \n",
    "                 range_x=[0.0001, 0.08], title=\"Predykcja Algorytmu\")"
   ]
  },
  {
   "cell_type": "code",
   "execution_count": null,
   "id": "canadian-animation",
   "metadata": {},
   "outputs": [],
   "source": [
    "plot(fig)"
   ]
  }
 ],
 "metadata": {
  "kernelspec": {
   "display_name": "Python 3",
   "language": "python",
   "name": "python3"
  },
  "language_info": {
   "codemirror_mode": {
    "name": "ipython",
    "version": 3
   },
   "file_extension": ".py",
   "mimetype": "text/x-python",
   "name": "python",
   "nbconvert_exporter": "python",
   "pygments_lexer": "ipython3",
   "version": "3.8.5"
  }
 },
 "nbformat": 4,
 "nbformat_minor": 5
}
