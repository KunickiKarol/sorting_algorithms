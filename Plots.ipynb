{
 "cells": [
  {
   "cell_type": "code",
   "execution_count": 2,
   "id": "accessible-psychiatry",
   "metadata": {},
   "outputs": [],
   "source": [
    "import pandas as pd\n",
    "import numpy as np\n",
    "import seaborn as sns\n",
    "import plotly.express as px\n",
    "from plotly.offline import plot"
   ]
  },
  {
   "cell_type": "code",
   "execution_count": 3,
   "id": "numerical-powell",
   "metadata": {},
   "outputs": [],
   "source": [
    "sorted10 = pd.read_json(r'/home/kaka/Downloads/sort/src/tej')\n",
    "sorted50 = pd.read_json(r'/home/kaka/Downloads/sort/src/tej50')\n",
    "sorted100 = pd.read_json(r'/home/kaka/Downloads/sort/src/tej100')\n",
    "sorted1000 = pd.read_json(r'/home/kaka/Downloads/sort/src/tej1000')\n",
    "sorted10000 = pd.read_json(r'/home/kaka/Downloads/sort/src/tej10000')\n",
    "\n",
    "df = pd.read_json(r'/home/kaka/Downloads/sort/src/k100')"
   ]
  },
  {
   "cell_type": "code",
   "execution_count": null,
   "id": "pressed-cologne",
   "metadata": {},
   "outputs": [],
   "source": [
    "df['cn'] = df.apply(lambda row: (row['compare'] / row.amount), axis=1)\n",
    "df['chn'] = df.apply(lambda row: (row['changes'] / row.amount), axis=1)\n",
    "# dont look good with insert\n",
    "df_1000mq = df.loc[(df['name'] != 'insert')]\n",
    "df_1000mq[\"const\"] = df_1000mq.apply(lambda row: (row['compare'] / (\n",
    "                                    row.amount * np.log(row.amount))), axis=1)\n",
    "\n",
    "tmp = 1.9\n",
    "maksik = 10100\n",
    "step = 100\n",
    "cos = pd.DataFrame(data=None)\n",
    "cos[\"name\"] = [\"log\" for x in range(100, maksik, 100)]\n",
    "cos[\"amount\"] = [x for x in range(100, maksik, 100)]\n",
    "cos[\"compare\"] = [tmp * x * np.log(x) for x in range(100, maksik, 100)]\n",
    "cos[\"changes\"] = [tmp * x * np.log(x) for x in range(100, maksik, 100)]\n",
    "cos[\"time\"] = [tmp * x * np.log(x) for x in range(100, maksik, 100)]\n",
    "cos[\"cn\"] = [tmp * x * np.log(x) for x in range(100, maksik, 100)]\n",
    "cos[\"chn\"] = [tmp * x * np.log(x) for x in range(100, maksik, 100)]\n",
    "cos[\"const\"] = [tmp for x in range(100, maksik, 100)]\n",
    "\n",
    "df_dual = df.loc[df['name'] == \"dual\"]\n",
    "df_dual = df_dual.groupby(['name', \"amount\"]).mean().reset_index()\n",
    "df_dual[\"const\"] = df_dual.apply(lambda row: (row['compare'] / (\n",
    "                                    row.amount * np.log(row.amount))), axis=1)\n",
    "\n",
    "df_quick = df.loc[df['name'] == \"quick\"]\n",
    "df_quick = df_quick.groupby(['name', \"amount\"]).mean().reset_index()\n",
    "df_quick[\"const\"] = df_quick.apply(lambda row: (row['compare'] / (\n",
    "                                    row.amount * np.log(row.amount))), axis=1)\n",
    "\n",
    "frames = [df_1000mq, cos]\n",
    "\n",
    "elo = pd.concat(frames)\n",
    "df_1000mq['name_id'] = df_1000mq.groupby('name').grouper.group_info[0]"
   ]
  },
  {
   "cell_type": "code",
   "execution_count": null,
   "id": "increased-alabama",
   "metadata": {},
   "outputs": [],
   "source": [
    "sns.lineplot(data = df_1000mq, x = 'amount', y = 'chn', hue = 'name')"
   ]
  },
  {
   "cell_type": "code",
   "execution_count": null,
   "id": "conceptual-vietnam",
   "metadata": {},
   "outputs": [],
   "source": [
    "sns.lineplot(data = elo, x = 'amount', y = 'const', hue = 'name')"
   ]
  },
  {
   "cell_type": "code",
   "execution_count": null,
   "id": "suspected-lafayette",
   "metadata": {},
   "outputs": [],
   "source": [
    "fig = px.scatter_matrix(data_frame = df_1000mq, \n",
    "                        dimensions = ['amount', 'compare', 'changes', \n",
    "                                      'time', 'cn', 'chn', 'const'], \n",
    "                        title = \"Anzaliza Algorytmow\", color = \"name\")\n",
    "plot(fig)"
   ]
  },
  {
   "cell_type": "code",
   "execution_count": null,
   "id": "continental-leonard",
   "metadata": {},
   "outputs": [],
   "source": [
    "fig = px.scatter(data_frame=df_1000mq, x='time', y='const', size='changes',\n",
    "                 color='name', size_max=10, animation_frame='amount', \n",
    "                 range_y=[0, 2.5], range_x=[0.0001, 0.08])\n",
    "plot(fig)"
   ]
  }
 ],
 "metadata": {
  "kernelspec": {
   "display_name": "Python 3",
   "language": "python",
   "name": "python3"
  },
  "language_info": {
   "codemirror_mode": {
    "name": "ipython",
    "version": 3
   },
   "file_extension": ".py",
   "mimetype": "text/x-python",
   "name": "python",
   "nbconvert_exporter": "python",
   "pygments_lexer": "ipython3",
   "version": "3.9.1"
  }
 },
 "nbformat": 4,
 "nbformat_minor": 5
}
